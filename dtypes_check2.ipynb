{
 "cells": [
  {
   "cell_type": "code",
   "execution_count": 1,
   "id": "d779b409-04f1-4218-9283-d4c8ed6dc09b",
   "metadata": {},
   "outputs": [],
   "source": [
    "import numpy as np\n",
    "import torch"
   ]
  },
  {
   "cell_type": "code",
   "execution_count": 2,
   "id": "b1dfb02c-df31-4d86-a135-c78a871ee7ac",
   "metadata": {},
   "outputs": [],
   "source": [
    "import sys # for checking sizes"
   ]
  },
  {
   "cell_type": "markdown",
   "id": "d09de1ef-9cc1-4483-9f73-b664c0dae61d",
   "metadata": {},
   "source": [
    "- matplotlib\n",
    "  `import matplotlib.pyplot as pyplot`\n",
    "- pandas\n",
    "  `import pandas`\n",
    "- numpy\n",
    "  `import numpy`"
   ]
  },
  {
   "cell_type": "markdown",
   "id": "a26f35da-a235-43ea-8ef3-17b13fc1b812",
   "metadata": {},
   "source": [
    "# experiments"
   ]
  },
  {
   "cell_type": "code",
   "execution_count": 3,
   "id": "d5662512-8056-465e-9e71-b0cb04f0a6dd",
   "metadata": {},
   "outputs": [
    {
     "name": "stdout",
     "output_type": "stream",
     "text": [
      "104 <class 'list'>\n"
     ]
    }
   ],
   "source": [
    "normal_python_homo_array = [3,5,6,7,8,9] #contains only integers\n",
    "# let's check the size,data_type\n",
    "\n",
    "print(sys.getsizeof(normal_python_homo_array), type(normal_python_homo_array))"
   ]
  },
  {
   "cell_type": "code",
   "execution_count": 9,
   "id": "542bf326-06eb-4728-8ceb-850a600659bd",
   "metadata": {},
   "outputs": [
    {
     "name": "stdout",
     "output_type": "stream",
     "text": [
      "160 <class 'numpy.ndarray'>\n"
     ]
    }
   ],
   "source": [
    "numpy_homo_array= np.array([3,5,6,7,8,9]) # putting exact same array as normal python homo one\n",
    "# let's check the size,data_type\n",
    "print(sys.getsizeof(numpy_homo_array), type(numpy_homo_array))\n"
   ]
  },
  {
   "cell_type": "code",
   "execution_count": 10,
   "id": "66e5c8b4-af0f-4771-b07d-0d9084829b3a",
   "metadata": {},
   "outputs": [
    {
     "name": "stdout",
     "output_type": "stream",
     "text": [
      "160 <class 'numpy.ndarray'>\n"
     ]
    }
   ],
   "source": [
    "\n",
    "# getting the default dtype to int32 for a better memory option...\n",
    "\n",
    "# numpy_homo_array.dtype = \"int32\"\n",
    "# # let's check the size,data_type\n",
    "# print(sys.getsizeof(numpy_homo_array), type(numpy_homo_array))\n",
    "\n",
    "\"\"\"\n",
    "overall with a dtype='int32', the size reduces significantly but still more than a normal homo python array\n",
    "\"\"\""
   ]
  },
  {
   "cell_type": "code",
   "execution_count": 15,
   "id": "07bac6b0-c7fa-4005-b635-e1b7b46cfb48",
   "metadata": {},
   "outputs": [
    {
     "name": "stdout",
     "output_type": "stream",
     "text": [
      "104 <class 'list'>\n"
     ]
    }
   ],
   "source": [
    "hetero_python_array = [4.2,5,6.4,7,8.5] # contains all dtypes\n",
    "# let's check the size,data_type\n",
    "print(sys.getsizeof(hetero_python_array), type(hetero_python_array)) "
   ]
  },
  {
   "cell_type": "code",
   "execution_count": 17,
   "id": "fa66f8ba-a762-44eb-8041-ae2fdf66a5cc",
   "metadata": {},
   "outputs": [
    {
     "name": "stdout",
     "output_type": "stream",
     "text": [
      "152 <class 'numpy.ndarray'>\n"
     ]
    }
   ],
   "source": [
    "# hetereogenous numpy array\n",
    "hetero_numpy_array = np.array([4.2,5,6.4,7,8.5])\n",
    "# let's check the size,data_type\n",
    "print(sys.getsizeof(hetero_numpy_array), type(hetero_numpy_array)) "
   ]
  },
  {
   "cell_type": "code",
   "execution_count": null,
   "id": "3a98e18c-ddc5-4af7-bacf-7a11da8a074e",
   "metadata": {},
   "outputs": [],
   "source": []
  }
 ],
 "metadata": {
  "kernelspec": {
   "display_name": "Python 3 (ipykernel)",
   "language": "python",
   "name": "python3"
  },
  "language_info": {
   "codemirror_mode": {
    "name": "ipython",
    "version": 3
   },
   "file_extension": ".py",
   "mimetype": "text/x-python",
   "name": "python",
   "nbconvert_exporter": "python",
   "pygments_lexer": "ipython3",
   "version": "3.12.4"
  }
 },
 "nbformat": 4,
 "nbformat_minor": 5
}

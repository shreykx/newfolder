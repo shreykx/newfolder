{
 "cells": [
  {
   "cell_type": "code",
   "execution_count": 8,
   "id": "eeb158e1-c788-4f73-a08b-b2a723b9f2d1",
   "metadata": {},
   "outputs": [],
   "source": [
    "import torch\n",
    "import sys\n",
    "import numpy as np"
   ]
  },
  {
   "cell_type": "code",
   "execution_count": 3,
   "id": "8204c508-cbde-4255-933b-4784a6a9c45e",
   "metadata": {},
   "outputs": [],
   "source": [
    "a = torch.tensor([3,5])"
   ]
  },
  {
   "cell_type": "code",
   "execution_count": 5,
   "id": "3a74104f-a273-4f9e-9ea5-112e7c214d85",
   "metadata": {},
   "outputs": [
    {
     "name": "stdout",
     "output_type": "stream",
     "text": [
      "tensor([3, 5]) <class 'torch.Tensor'>\n"
     ]
    }
   ],
   "source": [
    "print(a, type(a))"
   ]
  },
  {
   "cell_type": "code",
   "execution_count": 7,
   "id": "cb8dfb70-ba1a-4ae0-a31e-a3870057d4e1",
   "metadata": {},
   "outputs": [
    {
     "name": "stdout",
     "output_type": "stream",
     "text": [
      "80\n"
     ]
    }
   ],
   "source": [
    "print(sys.getsizeof(a))"
   ]
  },
  {
   "cell_type": "code",
   "execution_count": 9,
   "id": "88117d49-fba5-4a49-b329-278b1c6afdd2",
   "metadata": {},
   "outputs": [],
   "source": [
    "v = np.array([3,5])\n",
    "x = torch.tensor(v)"
   ]
  },
  {
   "cell_type": "code",
   "execution_count": 10,
   "id": "52350d65-6e5b-4878-bf6d-9b145da4d36b",
   "metadata": {},
   "outputs": [
    {
     "name": "stdout",
     "output_type": "stream",
     "text": [
      "tensor([3, 5]) <class 'torch.Tensor'>\n"
     ]
    }
   ],
   "source": [
    "print(x, type(x))"
   ]
  },
  {
   "cell_type": "code",
   "execution_count": 11,
   "id": "8ab919f5-5684-4d76-ab9f-e98dfaffeb11",
   "metadata": {},
   "outputs": [
    {
     "name": "stdout",
     "output_type": "stream",
     "text": [
      "80\n"
     ]
    }
   ],
   "source": [
    "print(sys.getsizeof(x))"
   ]
  },
  {
   "cell_type": "code",
   "execution_count": 12,
   "id": "e3c0af5a-a11f-4c65-b507-747e9b94820e",
   "metadata": {},
   "outputs": [
    {
     "name": "stdout",
     "output_type": "stream",
     "text": [
      "72 80\n"
     ]
    }
   ],
   "source": [
    "b = [3,5]\n",
    "print(sys.getsizeof(b), sys.getsizeof(x))"
   ]
  },
  {
   "cell_type": "code",
   "execution_count": 13,
   "id": "d0fadcd6-13d5-49fd-8f31-1e51bf7c546d",
   "metadata": {},
   "outputs": [],
   "source": [
    "h = np.array([3,5], dtype=\"float32\")"
   ]
  },
  {
   "cell_type": "code",
   "execution_count": 14,
   "id": "ca1df375-7baf-4842-b62b-574d0cd5e9e9",
   "metadata": {},
   "outputs": [
    {
     "name": "stdout",
     "output_type": "stream",
     "text": [
      "[3. 5.] <class 'numpy.ndarray'>\n"
     ]
    }
   ],
   "source": [
    "print(h, type(h))"
   ]
  },
  {
   "cell_type": "code",
   "execution_count": 15,
   "id": "6247b79b-8be2-427f-ba07-9553e8a56e5c",
   "metadata": {},
   "outputs": [
    {
     "name": "stdout",
     "output_type": "stream",
     "text": [
      "120\n"
     ]
    }
   ],
   "source": [
    "print(sys.getsizeof(h))"
   ]
  },
  {
   "cell_type": "code",
   "execution_count": 16,
   "id": "1737aab3-13be-46db-8cf1-4a5d8cce4ab6",
   "metadata": {},
   "outputs": [
    {
     "name": "stdout",
     "output_type": "stream",
     "text": [
      "120\n"
     ]
    }
   ],
   "source": [
    "k = np.array([3,5], dtype=\"int32\")\n",
    "print(sys.getsizeof(k))"
   ]
  },
  {
   "cell_type": "code",
   "execution_count": 17,
   "id": "883a5f62-3603-4330-a6f8-6939a1e4fa7d",
   "metadata": {},
   "outputs": [
    {
     "name": "stdout",
     "output_type": "stream",
     "text": [
      "[3.0, 5.0] <class 'list'> 72\n"
     ]
    }
   ],
   "source": [
    "l = [3.,5.]\n",
    "print(l, type(l), sys.getsizeof(l))"
   ]
  },
  {
   "cell_type": "code",
   "execution_count": null,
   "id": "6fa471f3-7a8a-42e2-bfcb-0d4b4da243da",
   "metadata": {},
   "outputs": [],
   "source": []
  }
 ],
 "metadata": {
  "kernelspec": {
   "display_name": "Python 3 (ipykernel)",
   "language": "python",
   "name": "python3"
  },
  "language_info": {
   "codemirror_mode": {
    "name": "ipython",
    "version": 3
   },
   "file_extension": ".py",
   "mimetype": "text/x-python",
   "name": "python",
   "nbconvert_exporter": "python",
   "pygments_lexer": "ipython3",
   "version": "3.12.4"
  }
 },
 "nbformat": 4,
 "nbformat_minor": 5
}
